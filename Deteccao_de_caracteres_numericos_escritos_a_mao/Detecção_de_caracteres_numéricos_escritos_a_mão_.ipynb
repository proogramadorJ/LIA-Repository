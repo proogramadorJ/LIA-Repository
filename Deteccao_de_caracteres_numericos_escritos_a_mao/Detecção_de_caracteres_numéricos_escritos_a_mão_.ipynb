{
  "nbformat": 4,
  "nbformat_minor": 0,
  "metadata": {
    "accelerator": "GPU",
    "anaconda-cloud": {},
    "colab": {
      "provenance": []
    },
    "kernelspec": {
      "display_name": "Python 3",
      "name": "python3"
    },
    "language_info": {
      "name": "python"
    },
    "gpuClass": "standard"
  },
  "cells": [
    {
      "cell_type": "markdown",
      "metadata": {
        "id": "v6OCC73yRnNv"
      },
      "source": [
        "## Convolutional Neural Networks - Implementation"
      ]
    },
    {
      "cell_type": "markdown",
      "metadata": {
        "id": "wqeZBG1GYsFC"
      },
      "source": [
        "Your goal in this project is to classify handwritten digits using Convolutional Neural Networks. Here are a few examples of images from the input data:\n",
        "\n",
        "![](https://upload.wikimedia.org/wikipedia/commons/2/27/MnistExamples.png)\n",
        "\n",
        "As output labels, we have a set of integer values ranging from 0 to 9. We are going to follow those steps in this notebook:\n",
        "\n",
        "1. **Prepare the input data**\n",
        "2. **Creating a simple fully connected model**\n",
        "3. **Extending to CNNs**\n",
        "4. **Visualizing Predictions**\n",
        "\n",
        "As a summary, three new classes/modules are going to be used:\n",
        "- [`tf.keras.layers.Flatten`](https://keras.io/layers/core/)\n",
        "    - Flattens the input. Does not affect the batch size.\n",
        "- [`tf.keras.layers.Conv2D`](https://keras.io/layers/convolutional/)\n",
        "    - 2D convolution layer\n",
        "- [`tf.keras.layers.MaxPooling2D`](https://keras.io/layers/pooling/)\n",
        "    - Max pooling operation for spatial data.\n",
        "\n"
      ]
    },
    {
      "cell_type": "markdown",
      "metadata": {
        "id": "8K3KJIeOYpSw"
      },
      "source": [
        "\n",
        "### 1. Preparing the input data"
      ]
    },
    {
      "cell_type": "code",
      "metadata": {
        "id": "P3vy7rAIX1xV"
      },
      "source": [
        "from tensorflow.keras.datasets import mnist"
      ],
      "execution_count": 2,
      "outputs": []
    },
    {
      "cell_type": "code",
      "metadata": {
        "id": "LXH4dioUX1um",
        "colab": {
          "base_uri": "https://localhost:8080/"
        },
        "outputId": "ad1d2d95-b8c7-4370-f3d1-995f3005c298"
      },
      "source": [
        "(X_train, y_train), (X_test, y_test) = mnist.load_data()"
      ],
      "execution_count": 3,
      "outputs": [
        {
          "output_type": "stream",
          "name": "stdout",
          "text": [
            "Downloading data from https://storage.googleapis.com/tensorflow/tf-keras-datasets/mnist.npz\n",
            "11490434/11490434 [==============================] - 2s 0us/step\n"
          ]
        }
      ]
    },
    {
      "cell_type": "code",
      "metadata": {
        "id": "Mjlof3omX1sH",
        "colab": {
          "base_uri": "https://localhost:8080/"
        },
        "outputId": "ed285732-bb3b-4576-ad5e-470547edffc4"
      },
      "source": [
        "X_train.shape"
      ],
      "execution_count": 4,
      "outputs": [
        {
          "output_type": "execute_result",
          "data": {
            "text/plain": [
              "(60000, 28, 28)"
            ]
          },
          "metadata": {},
          "execution_count": 4
        }
      ]
    },
    {
      "cell_type": "code",
      "source": [
        "X_test.shape"
      ],
      "metadata": {
        "id": "W8nGnwrUqOPS",
        "outputId": "9ee1cf98-76b6-45fd-e66c-5fb008c16e72",
        "colab": {
          "base_uri": "https://localhost:8080/"
        }
      },
      "execution_count": 5,
      "outputs": [
        {
          "output_type": "execute_result",
          "data": {
            "text/plain": [
              "(10000, 28, 28)"
            ]
          },
          "metadata": {},
          "execution_count": 5
        }
      ]
    },
    {
      "cell_type": "markdown",
      "metadata": {
        "id": "9ENmPMuKVolZ"
      },
      "source": [
        "Now, let's normalize the data using standardization:"
      ]
    },
    {
      "cell_type": "code",
      "metadata": {
        "id": "JBwSbBjvX3A-",
        "colab": {
          "base_uri": "https://localhost:8080/"
        },
        "outputId": "44c3689e-5f25-4773-d02e-555a74d86482"
      },
      "source": [
        "x_mean = X_train.mean()\n",
        "x_mean"
      ],
      "execution_count": 8,
      "outputs": [
        {
          "output_type": "execute_result",
          "data": {
            "text/plain": [
              "33.318421449829934"
            ]
          },
          "metadata": {},
          "execution_count": 8
        }
      ]
    },
    {
      "cell_type": "code",
      "metadata": {
        "id": "Q58yJC-RX3w5",
        "colab": {
          "base_uri": "https://localhost:8080/"
        },
        "outputId": "54957998-5dcc-416f-b0a5-6b2253dc6ddc"
      },
      "source": [
        "x_std = X_train.std()\n",
        "x_std"
      ],
      "execution_count": 9,
      "outputs": [
        {
          "output_type": "execute_result",
          "data": {
            "text/plain": [
              "78.56748998339798"
            ]
          },
          "metadata": {},
          "execution_count": 9
        }
      ]
    },
    {
      "cell_type": "code",
      "source": [
        "X_train_norm = (X_train - x_mean) / x_std"
      ],
      "metadata": {
        "id": "Iwx-sLjerKFY"
      },
      "execution_count": 10,
      "outputs": []
    },
    {
      "cell_type": "code",
      "source": [
        "X_train_norm.mean()"
      ],
      "metadata": {
        "colab": {
          "base_uri": "https://localhost:8080/"
        },
        "id": "JwqjzoDlrmFR",
        "outputId": "6fe777e8-af29-4f9c-e23b-ae7a367c082a"
      },
      "execution_count": 12,
      "outputs": [
        {
          "output_type": "execute_result",
          "data": {
            "text/plain": [
              "-3.064638490070051e-17"
            ]
          },
          "metadata": {},
          "execution_count": 12
        }
      ]
    },
    {
      "cell_type": "code",
      "source": [
        "X_train_norm.std()"
      ],
      "metadata": {
        "colab": {
          "base_uri": "https://localhost:8080/"
        },
        "id": "wzCwSw4CrVgx",
        "outputId": "7fcaff94-4707-4de3-f2be-ff2220d31e3d"
      },
      "execution_count": 11,
      "outputs": [
        {
          "output_type": "execute_result",
          "data": {
            "text/plain": [
              "0.9999999999999998"
            ]
          },
          "metadata": {},
          "execution_count": 11
        }
      ]
    },
    {
      "cell_type": "code",
      "source": [
        "X_test_norm = (X_test - x_mean) / x_std\n",
        "X_test_norm"
      ],
      "metadata": {
        "id": "UBVfkN5xrjfQ"
      },
      "execution_count": null,
      "outputs": []
    },
    {
      "cell_type": "code",
      "source": [],
      "metadata": {
        "id": "gdixwyxp1Z1U"
      },
      "execution_count": null,
      "outputs": []
    },
    {
      "cell_type": "markdown",
      "metadata": {
        "id": "-EuPGiCJ-lmB"
      },
      "source": [
        "Normalisation is required so that all the inputs are at a comparable range.\n",
        "Say there are two inputs to your ann, x1 and x2. x1 varies from to 0 to 0.5 and x2 varies from 0 to 1000. A change of x1 of 0.5  is 100 percent change where as a change of x2 by 0.5 is only a change of 0.05%. Hence normalization helps. "
      ]
    },
    {
      "cell_type": "markdown",
      "metadata": {
        "id": "P2z_A6xiRvVg"
      },
      "source": [
        "### 2. Training using only Fully Connected layers first"
      ]
    },
    {
      "cell_type": "code",
      "metadata": {
        "id": "yZqOQeE2X4aO"
      },
      "source": [
        "from tensorflow.keras.models import Sequential\n",
        "from tensorflow.keras.layers import Dense, Flatten"
      ],
      "execution_count": 15,
      "outputs": []
    },
    {
      "cell_type": "code",
      "metadata": {
        "id": "PMdHKS6DX4Xt"
      },
      "source": [
        "model = Sequential([\n",
        "                    Flatten(input_shape = (28,28)),\n",
        "                    Dense(400, activation = 'relu'),\n",
        "                    Dense(10, activation = 'softmax')\n",
        "])"
      ],
      "execution_count": 33,
      "outputs": []
    },
    {
      "cell_type": "code",
      "source": [
        "Flatten?"
      ],
      "metadata": {
        "id": "-WCqmUMzueMo"
      },
      "execution_count": 24,
      "outputs": []
    },
    {
      "cell_type": "code",
      "source": [
        "model.summary()"
      ],
      "metadata": {
        "colab": {
          "base_uri": "https://localhost:8080/"
        },
        "id": "YXWWENmkuQZ1",
        "outputId": "6e0136b9-2a1e-4d34-9d4a-3aff9be88ae7"
      },
      "execution_count": 34,
      "outputs": [
        {
          "output_type": "stream",
          "name": "stdout",
          "text": [
            "Model: \"sequential_8\"\n",
            "_________________________________________________________________\n",
            " Layer (type)                Output Shape              Param #   \n",
            "=================================================================\n",
            " flatten_7 (Flatten)         (None, 784)               0         \n",
            "                                                                 \n",
            " dense_8 (Dense)             (None, 400)               314000    \n",
            "                                                                 \n",
            " dense_9 (Dense)             (None, 10)                4010      \n",
            "                                                                 \n",
            "=================================================================\n",
            "Total params: 318,010\n",
            "Trainable params: 318,010\n",
            "Non-trainable params: 0\n",
            "_________________________________________________________________\n"
          ]
        }
      ]
    },
    {
      "cell_type": "code",
      "source": [
        "model.compile(optimizer = 'adam',\n",
        "              loss='sparse_categorical_crossentropy',\n",
        "              metrics=['accuracy']\n",
        "              )"
      ],
      "metadata": {
        "id": "QTLoM72Jw-jt"
      },
      "execution_count": 36,
      "outputs": []
    },
    {
      "cell_type": "code",
      "source": [
        "hist = model.fit(X_train_norm,\n",
        "          y_train, \n",
        "          validation_data=(X_test_norm, y_test),\n",
        "          epochs=15)"
      ],
      "metadata": {
        "colab": {
          "base_uri": "https://localhost:8080/"
        },
        "id": "WzS0fhYzxfQH",
        "outputId": "d4812766-4f4d-497c-9d6c-a3819c0c7ac9"
      },
      "execution_count": 41,
      "outputs": [
        {
          "output_type": "stream",
          "name": "stdout",
          "text": [
            "Epoch 1/15\n",
            "1875/1875 [==============================] - 5s 3ms/step - loss: 0.1232 - accuracy: 0.9628 - val_loss: 0.0898 - val_accuracy: 0.9728\n",
            "Epoch 2/15\n",
            "1875/1875 [==============================] - 5s 2ms/step - loss: 0.0619 - accuracy: 0.9807 - val_loss: 0.0812 - val_accuracy: 0.9742\n",
            "Epoch 3/15\n",
            "1875/1875 [==============================] - 5s 2ms/step - loss: 0.0463 - accuracy: 0.9857 - val_loss: 0.0781 - val_accuracy: 0.9758\n",
            "Epoch 4/15\n",
            "1875/1875 [==============================] - 5s 3ms/step - loss: 0.0341 - accuracy: 0.9889 - val_loss: 0.0740 - val_accuracy: 0.9796\n",
            "Epoch 5/15\n",
            "1875/1875 [==============================] - 5s 3ms/step - loss: 0.0283 - accuracy: 0.9908 - val_loss: 0.0920 - val_accuracy: 0.9736\n",
            "Epoch 6/15\n",
            "1875/1875 [==============================] - 5s 3ms/step - loss: 0.0244 - accuracy: 0.9920 - val_loss: 0.0937 - val_accuracy: 0.9754\n",
            "Epoch 7/15\n",
            "1875/1875 [==============================] - 6s 3ms/step - loss: 0.0194 - accuracy: 0.9936 - val_loss: 0.0837 - val_accuracy: 0.9796\n",
            "Epoch 8/15\n",
            "1875/1875 [==============================] - 5s 3ms/step - loss: 0.0182 - accuracy: 0.9940 - val_loss: 0.0991 - val_accuracy: 0.9784\n",
            "Epoch 9/15\n",
            "1875/1875 [==============================] - 5s 3ms/step - loss: 0.0164 - accuracy: 0.9944 - val_loss: 0.1167 - val_accuracy: 0.9746\n",
            "Epoch 10/15\n",
            "1875/1875 [==============================] - 5s 3ms/step - loss: 0.0164 - accuracy: 0.9944 - val_loss: 0.1063 - val_accuracy: 0.9790\n",
            "Epoch 11/15\n",
            "1875/1875 [==============================] - 5s 2ms/step - loss: 0.0130 - accuracy: 0.9956 - val_loss: 0.1272 - val_accuracy: 0.9750\n",
            "Epoch 12/15\n",
            "1875/1875 [==============================] - 5s 3ms/step - loss: 0.0106 - accuracy: 0.9964 - val_loss: 0.1113 - val_accuracy: 0.9795\n",
            "Epoch 13/15\n",
            "1875/1875 [==============================] - 5s 2ms/step - loss: 0.0128 - accuracy: 0.9959 - val_loss: 0.1318 - val_accuracy: 0.9775\n",
            "Epoch 14/15\n",
            "1875/1875 [==============================] - 5s 3ms/step - loss: 0.0109 - accuracy: 0.9966 - val_loss: 0.1172 - val_accuracy: 0.9799\n",
            "Epoch 15/15\n",
            "1875/1875 [==============================] - 6s 3ms/step - loss: 0.0085 - accuracy: 0.9971 - val_loss: 0.1327 - val_accuracy: 0.9789\n"
          ]
        }
      ]
    },
    {
      "cell_type": "code",
      "source": [],
      "metadata": {
        "id": "UdUejvSY8zWd"
      },
      "execution_count": null,
      "outputs": []
    },
    {
      "cell_type": "markdown",
      "metadata": {
        "id": "jgeCrlak5AMG"
      },
      "source": [
        "### 3. Extending to CNNs"
      ]
    },
    {
      "cell_type": "markdown",
      "metadata": {
        "id": "WKBhdpFaYw8s"
      },
      "source": [
        "\n",
        "Now, let's replicate the same architecture from the visualization provided on the previous video:\n",
        "![Screen Shot 2019-05-14 at 12 58 15](https://user-images.githubusercontent.com/5733246/57713463-e8627400-7648-11e9-8c64-3745519dbb20.png)\n",
        "\n",
        "The analog architecture that is going to be used is:\n",
        "- Conv. Layer with 6 filters\n",
        "- Maxpooling\n",
        "- Conv. Layer with 16 filters\n",
        "- Maxpooling\n",
        "- Fully connected layer with 120 units\n",
        "- Fully connected layer with 100 units\n",
        "- Output layer with 10 units\n"
      ]
    },
    {
      "cell_type": "markdown",
      "metadata": {
        "id": "HrF_r7NgYzJ6"
      },
      "source": [
        "#### Convolutional Model"
      ]
    },
    {
      "cell_type": "code",
      "metadata": {
        "id": "g9XMm782X5v8"
      },
      "source": [
        "from tensorflow.keras.layers import Conv2D"
      ],
      "execution_count": 45,
      "outputs": []
    },
    {
      "cell_type": "code",
      "metadata": {
        "id": "8qpZe9PjYLoH",
        "colab": {
          "base_uri": "https://localhost:8080/"
        },
        "outputId": "22dfb299-a186-4495-d3ca-1359b4c63f55"
      },
      "source": [
        "X_train[0].shape\n"
      ],
      "execution_count": 42,
      "outputs": [
        {
          "output_type": "execute_result",
          "data": {
            "text/plain": [
              "(28, 28)"
            ]
          },
          "metadata": {},
          "execution_count": 42
        }
      ]
    },
    {
      "cell_type": "code",
      "source": [
        "conv = Conv2D(1, kernel_size=(3,3))"
      ],
      "metadata": {
        "id": "vcyMNcob453T"
      },
      "execution_count": 46,
      "outputs": []
    },
    {
      "cell_type": "code",
      "source": [
        "x = X_train_norm[0].reshape(1,28,28,1)"
      ],
      "metadata": {
        "id": "nwR48OsL5OEO"
      },
      "execution_count": 47,
      "outputs": []
    },
    {
      "cell_type": "code",
      "source": [
        "from tensorflow.keras.layers import MaxPool2D"
      ],
      "metadata": {
        "id": "3Udu93GV-y84"
      },
      "execution_count": 61,
      "outputs": []
    },
    {
      "cell_type": "code",
      "source": [
        "model = Sequential([\n",
        "                    Conv2D(6,kernel_size=(3,3),input_shape=(28,28,1), activation = 'relu'), \n",
        "                    MaxPool2D(),      \n",
        "                    Conv2D(16,kernel_size=(3,3), activation = 'relu'),\n",
        "                    MaxPool2D(),                                            \n",
        "                    Flatten(),\n",
        "                    Dense(120, activation='relu'),\n",
        "                    Dense(100, activation='relu'),\n",
        "                    Dense(10, activation='softmax')\n",
        "])"
      ],
      "metadata": {
        "id": "PW8K2uUu5XQE"
      },
      "execution_count": 68,
      "outputs": []
    },
    {
      "cell_type": "code",
      "source": [
        "model.summary()"
      ],
      "metadata": {
        "colab": {
          "base_uri": "https://localhost:8080/"
        },
        "id": "gAIbon857qUN",
        "outputId": "3d98031a-8a46-4b34-bc2a-318658be3bfe"
      },
      "execution_count": 69,
      "outputs": [
        {
          "output_type": "stream",
          "name": "stdout",
          "text": [
            "Model: \"sequential_14\"\n",
            "_________________________________________________________________\n",
            " Layer (type)                Output Shape              Param #   \n",
            "=================================================================\n",
            " conv2d_8 (Conv2D)           (None, 26, 26, 6)         60        \n",
            "                                                                 \n",
            " max_pooling2d_4 (MaxPooling  (None, 13, 13, 6)        0         \n",
            " 2D)                                                             \n",
            "                                                                 \n",
            " conv2d_9 (Conv2D)           (None, 11, 11, 16)        880       \n",
            "                                                                 \n",
            " max_pooling2d_5 (MaxPooling  (None, 5, 5, 16)         0         \n",
            " 2D)                                                             \n",
            "                                                                 \n",
            " flatten_13 (Flatten)        (None, 400)               0         \n",
            "                                                                 \n",
            " dense_23 (Dense)            (None, 120)               48120     \n",
            "                                                                 \n",
            " dense_24 (Dense)            (None, 100)               12100     \n",
            "                                                                 \n",
            " dense_25 (Dense)            (None, 10)                1010      \n",
            "                                                                 \n",
            "=================================================================\n",
            "Total params: 62,170\n",
            "Trainable params: 62,170\n",
            "Non-trainable params: 0\n",
            "_________________________________________________________________\n"
          ]
        }
      ]
    },
    {
      "cell_type": "code",
      "source": [
        "model.compile(optimizer = 'adam',\n",
        "              loss='sparse_categorical_crossentropy',\n",
        "              metrics=['accuracy']\n",
        "              )"
      ],
      "metadata": {
        "id": "v6gCHUeC73Z9"
      },
      "execution_count": 70,
      "outputs": []
    },
    {
      "cell_type": "code",
      "source": [
        "X_train_norm = X_train_norm.reshape(60000, 28, 28, 1)\n",
        "X_test_norm = X_test_norm.reshape(-1, 28, 28, 1)"
      ],
      "metadata": {
        "id": "SYf2JZWK8Ijt"
      },
      "execution_count": 58,
      "outputs": []
    },
    {
      "cell_type": "code",
      "source": [
        "hist = model.fit(X_train_norm,\n",
        "          y_train, \n",
        "          validation_data=(X_test_norm, y_test),\n",
        "          epochs=5)"
      ],
      "metadata": {
        "colab": {
          "base_uri": "https://localhost:8080/"
        },
        "id": "Zqmzk91K82b6",
        "outputId": "cc5fa51d-996d-497a-df16-b5dc8b553d2b"
      },
      "execution_count": 71,
      "outputs": [
        {
          "output_type": "stream",
          "name": "stdout",
          "text": [
            "Epoch 1/5\n",
            "1875/1875 [==============================] - 7s 3ms/step - loss: 0.1814 - accuracy: 0.9439 - val_loss: 0.0837 - val_accuracy: 0.9734\n",
            "Epoch 2/5\n",
            "1875/1875 [==============================] - 6s 3ms/step - loss: 0.0613 - accuracy: 0.9807 - val_loss: 0.0463 - val_accuracy: 0.9837\n",
            "Epoch 3/5\n",
            "1875/1875 [==============================] - 6s 3ms/step - loss: 0.0446 - accuracy: 0.9857 - val_loss: 0.0380 - val_accuracy: 0.9878\n",
            "Epoch 4/5\n",
            "1875/1875 [==============================] - 6s 3ms/step - loss: 0.0343 - accuracy: 0.9892 - val_loss: 0.0364 - val_accuracy: 0.9872\n",
            "Epoch 5/5\n",
            "1875/1875 [==============================] - 7s 4ms/step - loss: 0.0274 - accuracy: 0.9909 - val_loss: 0.0398 - val_accuracy: 0.9881\n"
          ]
        }
      ]
    },
    {
      "cell_type": "markdown",
      "source": [
        "###Test Model"
      ],
      "metadata": {
        "id": "DWBOML8NDqXJ"
      }
    },
    {
      "cell_type": "code",
      "source": [
        "import matplotlib.pyplot as plt"
      ],
      "metadata": {
        "id": "oGbJb0FzEMiz"
      },
      "execution_count": 74,
      "outputs": []
    },
    {
      "cell_type": "code",
      "source": [
        "for idx in range(5):\n",
        "  x = X_test_norm[idx].reshape(1,28,28,1)\n",
        "  plt.imshow(x.reshape(28,28), cmap='gray')\n",
        "  pred = model.predict(x)\n",
        "  pred_class = pred.argmax()\n",
        "  plt.title(f'True {y_test[idx]}, Pred: {pred_class} Prob: {pred[0][pred_class]}')\n",
        "  plt.show()"
      ],
      "metadata": {
        "colab": {
          "base_uri": "https://localhost:8080/",
          "height": 1000
        },
        "id": "DOV4Evg0D2ln",
        "outputId": "a744cd6c-a4fa-47dd-eab5-91d2e4263a9f"
      },
      "execution_count": 77,
      "outputs": [
        {
          "output_type": "stream",
          "name": "stdout",
          "text": [
            "1/1 [==============================] - 0s 14ms/step\n"
          ]
        },
        {
          "output_type": "display_data",
          "data": {
            "text/plain": [
              "<Figure size 432x288 with 1 Axes>"
            ],
            "image/png": "[encoded data removed]"
          },
          "metadata": {
            "needs_background": "light"
          }
        },
        {
          "output_type": "stream",
          "name": "stdout",
          "text": [
            "1/1 [==============================] - 0s 20ms/step\n"
          ]
        },
        {
          "output_type": "display_data",
          "data": {
            "text/plain": [
              "<Figure size 432x288 with 1 Axes>"
            ],
            "image/png": "[encoded data removed]"
          },
          "metadata": {
            "needs_background": "light"
          }
        },
        {
          "output_type": "stream",
          "name": "stdout",
          "text": [
            "1/1 [==============================] - 0s 14ms/step\n"
          ]
        },
        {
          "output_type": "display_data",
          "data": {
            "text/plain": [
              "<Figure size 432x288 with 1 Axes>"
            ],
            "image/png": "[encoded data removed]"
          },
          "metadata": {
            "needs_background": "light"
          }
        },
        {
          "output_type": "stream",
          "name": "stdout",
          "text": [
            "1/1 [==============================] - 0s 15ms/step\n"
          ]
        },
        {
          "output_type": "display_data",
          "data": {
            "text/plain": [
              "<Figure size 432x288 with 1 Axes>"
            ],
            "image/png": "[encoded data removed]"
          },
          "metadata": {
            "needs_background": "light"
          }
        },
        {
          "output_type": "stream",
          "name": "stdout",
          "text": [
            "1/1 [==============================] - 0s 14ms/step\n"
          ]
        },
        {
          "output_type": "display_data",
          "data": {
            "text/plain": [
              "<Figure size 432x288 with 1 Axes>"
            ],
            "image/png": "[encoded data removed]"
          },
          "metadata": {
            "needs_background": "light"
          }
        }
      ]
    },
    {
      "cell_type": "markdown",
      "source": [
        "###Save model"
      ],
      "metadata": {
        "id": "D5_kwhfCDG2J"
      }
    },
    {
      "cell_type": "code",
      "source": [
        "model.save('trained model.h5')"
      ],
      "metadata": {
        "id": "-5q7WJ-TDLdX"
      },
      "execution_count": 73,
      "outputs": []
    }
  ]
}